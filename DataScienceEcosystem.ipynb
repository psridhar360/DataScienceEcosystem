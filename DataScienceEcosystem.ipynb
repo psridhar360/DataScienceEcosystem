{
 "cells": [
  {
   "cell_type": "markdown",
   "id": "b37f36a7-17e4-457b-84cc-3003589ac613",
   "metadata": {
    "tags": []
   },
   "source": [
    "# Data Science Tools and Ecosystem"
   ]
  },
  {
   "cell_type": "markdown",
   "id": "b94786dd-f234-410f-bb3b-3059ca2f6a39",
   "metadata": {},
   "source": [
    "In this notebook, Data Science Tools and Ecosystem are summarized."
   ]
  },
  {
   "cell_type": "markdown",
   "id": "3d964a8b-1e47-446c-a850-d1167e11d6eb",
   "metadata": {},
   "source": [
    "## Objectives:"
   ]
  },
  {
   "cell_type": "markdown",
   "id": "8a2c201c-3907-4e29-9001-f1817054868b",
   "metadata": {},
   "source": [
    "1. List Popular Langaugaes of Data Science.\n",
    "2. List Commonly used Libraries by Data Scientists.\n",
    "3. List Commonly Used Data Science Tools.\n",
    "4. Examples of Evaluating Arithmatic Expressions"
   ]
  },
  {
   "cell_type": "markdown",
   "id": "fd13a81e-ea85-4aa3-862c-2d739f236fe6",
   "metadata": {},
   "source": [
    "## Author\n",
    "Sridhar P"
   ]
  },
  {
   "cell_type": "markdown",
   "id": "20dfe216-6f4a-47ae-a016-06f7780199c6",
   "metadata": {},
   "source": [
    "Some of the popular languages that Data Scientists use are:"
   ]
  },
  {
   "cell_type": "markdown",
   "id": "6e6a75c7-c691-4c01-b552-72b599a37631",
   "metadata": {},
   "source": [
    "1. Python\n",
    "2. R\n",
    "3. Julia"
   ]
  },
  {
   "cell_type": "markdown",
   "id": "2a1b4291-749e-46bb-be94-face86a3072d",
   "metadata": {},
   "source": [
    "Some of the commonly used libraries used by Data Scientists include:"
   ]
  },
  {
   "cell_type": "markdown",
   "id": "fa64fcaa-6dd6-464f-860a-e971dc6379e6",
   "metadata": {},
   "source": [
    "1. ggplot\n",
    "2. plotly\n",
    "3. tensorflow\n",
    "4. scipy\n",
    "5. keras\n",
    "6. pycaret"
   ]
  },
  {
   "cell_type": "markdown",
   "id": "4805f082-e621-4a7d-b774-8db7ecc088bd",
   "metadata": {},
   "source": [
    "Data Science Tools"
   ]
  },
  {
   "cell_type": "markdown",
   "id": "a0be5a8d-d1f0-4a3f-89b4-ca8435069595",
   "metadata": {},
   "source": [
    "1. Jupyter Notebook\n",
    "2. Anaconda\n",
    "3. R Studio\n",
    "4. Watson Studio"
   ]
  },
  {
   "cell_type": "markdown",
   "id": "eadd4fac-8062-434a-a4da-c95c007416ec",
   "metadata": {},
   "source": [
    "### Below are a few examples of evaluating arithmetic expressions in Python"
   ]
  },
  {
   "cell_type": "code",
   "execution_count": 2,
   "id": "f544c5eb-af90-4f31-a709-d0555e6894c1",
   "metadata": {
    "tags": []
   },
   "outputs": [
    {
     "data": {
      "text/plain": [
       "17"
      ]
     },
     "execution_count": 2,
     "metadata": {},
     "output_type": "execute_result"
    }
   ],
   "source": [
    "# This a simple arithmetic expression to mutiply then add integers\n",
    "(3*4)+5"
   ]
  },
  {
   "cell_type": "code",
   "execution_count": 3,
   "id": "f0da06b8-f367-4bc1-a007-a15f0b936abb",
   "metadata": {
    "tags": []
   },
   "outputs": [
    {
     "data": {
      "text/plain": [
       "3.3333333333333335"
      ]
     },
     "execution_count": 3,
     "metadata": {},
     "output_type": "execute_result"
    }
   ],
   "source": [
    "# This will convert 200 minutes to hours by diving by 60\n",
    "200/60"
   ]
  },
  {
   "cell_type": "code",
   "execution_count": null,
   "id": "051476dc-9ca5-4b30-b38d-ab0b72201de0",
   "metadata": {},
   "outputs": [],
   "source": []
  }
 ],
 "metadata": {
  "kernelspec": {
   "display_name": "Python 3 (ipykernel)",
   "language": "python",
   "name": "python3"
  },
  "language_info": {
   "codemirror_mode": {
    "name": "ipython",
    "version": 3
   },
   "file_extension": ".py",
   "mimetype": "text/x-python",
   "name": "python",
   "nbconvert_exporter": "python",
   "pygments_lexer": "ipython3",
   "version": "3.11.5"
  }
 },
 "nbformat": 4,
 "nbformat_minor": 5
}
